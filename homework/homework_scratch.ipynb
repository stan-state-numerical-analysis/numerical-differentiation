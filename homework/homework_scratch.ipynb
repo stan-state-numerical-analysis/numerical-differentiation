{
 "cells": [
  {
   "cell_type": "markdown",
   "metadata": {},
   "source": [
    "# Task 1"
   ]
  },
  {
   "cell_type": "code",
   "execution_count": null,
   "metadata": {},
   "outputs": [],
   "source": [
    "# Task: Create functions that approximate the second derivative using the central difference method, and visualize the accuracy for various step sizes.\n",
    "\n",
    "# 1. Define a function called central_difference_second_derivative that takes a function f, a point x,\n",
    "# and a small value h as input, and outputs the approximate second derivative of f at x using the central difference method."
   ]
  },
  {
   "cell_type": "code",
   "execution_count": null,
   "metadata": {},
   "outputs": [],
   "source": [
    "# 2. Define a function called plot_second_derivative_approximation that takes a function f, its true second derivative function f_dd,\n",
    "# a point x, and a list of h values. The function should plot the estimated second derivative using the central difference method\n",
    "# and the true second derivative at x for the given h values. The variable names and plot settings should be identical to those used in class,\n",
    "# besides the plot label, axhline label, ylabel, and title. Be sure to import the necessary package."
   ]
  },
  {
   "cell_type": "code",
   "execution_count": null,
   "metadata": {},
   "outputs": [],
   "source": [
    "# 3. Define a function called calculate_absolute_error that takes an estimated value and the true value, and returns the absolute error."
   ]
  },
  {
   "cell_type": "code",
   "execution_count": null,
   "metadata": {},
   "outputs": [],
   "source": [
    "# 4. Define a function called plot_absolute_error that takes a function f, its true second derivative function f_dd, a point x,\n",
    "# and a list of h values. The function should plot the absolute error of the estimated second derivative at x for the given h values.\n",
    "# The variable names and plot settings should be identical to those used in class, besides the title."
   ]
  },
  {
   "cell_type": "markdown",
   "metadata": {},
   "source": [
    "# Task 2"
   ]
  },
  {
   "cell_type": "code",
   "execution_count": null,
   "metadata": {},
   "outputs": [],
   "source": [
    "# Task: Use the functions defined in task_1 to analyze the second derivative using the central difference method for a given function.\n",
    "\n",
    "# 1. Import the task_1 module."
   ]
  },
  {
   "cell_type": "code",
   "execution_count": null,
   "metadata": {},
   "outputs": [],
   "source": [
    "# 2. Define a function called example_function that takes a number x as input and outputs the value of the function\n",
    "# f(x) = 5x^5-3x^3+2x+1."
   ]
  },
  {
   "cell_type": "code",
   "execution_count": null,
   "metadata": {},
   "outputs": [],
   "source": [
    "# 3. Define a function called true_second_derivative that takes a number x as input and outputs the value of the true second derivative\n",
    "# of the example_function given above."
   ]
  },
  {
   "cell_type": "code",
   "execution_count": null,
   "metadata": {},
   "outputs": [],
   "source": [
    "# 4. Define a variable called x_value equal to 4 and a variable called h_values equal to the list of numbers 1, 0.5, 0.25,...,2^(-10).\n",
    "# Use a list comprehension to define h_values."
   ]
  },
  {
   "cell_type": "code",
   "execution_count": null,
   "metadata": {},
   "outputs": [],
   "source": [
    "# 5. Use the plot_second_derivative_approximation function from the task_1 module to visualize how well the central difference method\n",
    "# approximates the second derivative of the example_function at the x_value and with the h_values all defined in #4."
   ]
  },
  {
   "cell_type": "code",
   "execution_count": null,
   "metadata": {},
   "outputs": [],
   "source": [
    "# 6. Use the plot_absolute_error function from the task_1 module to visualize the absolute error of the central\n",
    "# difference method in approximating the second derivative of the example_function at x_value with the h_values all defined in #4."
   ]
  },
  {
   "cell_type": "markdown",
   "metadata": {},
   "source": [
    "# Task 3"
   ]
  },
  {
   "cell_type": "code",
   "execution_count": null,
   "metadata": {},
   "outputs": [],
   "source": [
    "# Task: Create functions that approximate the first derivative using the central difference method, and visualize the accuracy for various step sizes on a given interval.\n",
    "\n",
    "# 1. Import the necessary plotting package."
   ]
  },
  {
   "cell_type": "code",
   "execution_count": null,
   "metadata": {},
   "outputs": [],
   "source": [
    "# 2. Define a function called central_difference that takes a function f, a point x, and a small value h as input,\n",
    "# and outputs the approximate first derivative of f at x using the central difference method."
   ]
  },
  {
   "cell_type": "code",
   "execution_count": null,
   "metadata": {},
   "outputs": [],
   "source": [
    "# 3. Import the numpy package under the correct alias."
   ]
  },
  {
   "cell_type": "code",
   "execution_count": null,
   "metadata": {},
   "outputs": [],
   "source": [
    "# 4. The function below takes in the original function, its true derivative, an interval of x-values in the form of a 2-element list, and list of h-values.\n",
    "# It will plot the true first derivative on the interval as well as the approximations for different h-values.\n",
    "# Finish the function definition below by completing the four TO DOs.\n",
    "\n",
    "def plot_derivative_approximations(func, true_derivative, interval, h_values):\n",
    "\n",
    "    # TODO: Define a list called x_values that contains 1000 equally spaced values spanning the given interval (use numpy).\n",
    "\n",
    "\n",
    "    \n",
    "    # TODO: Define a list called true_derivatives that contains the true derivative at each value in x_values.\n",
    "\n",
    "    \n",
    "\n",
    "    fig, ax = plt.subplots(figsize=(14, 8))\n",
    "  \n",
    "    # TODO: Plot the true derivative in the color black with the label True Derivative and linewidth of 4.\n",
    "\n",
    "  \n",
    "\n",
    "    # TODO: For each h-value, define a list called approx_derivatives that approximates the true\n",
    "    # derivative using the central difference method (with the given h-value) at each x-value in\n",
    "    # x_values. Then plot the approximate derivative and give it the label Approx Derivative (h=#)\n",
    "    # where # should be replaced with the corresponding value of h.\n",
    "\n",
    "\n",
    "    ax.set_xlabel(\"x\")\n",
    "    ax.set_ylabel(\"Derivative\")\n",
    "    ax.set_title(\"First Derivative Approximation Using Central Difference Method\")\n",
    "    ax.legend()\n",
    "    ax.grid(True)\n",
    "\n",
    "    return fig"
   ]
  },
  {
   "cell_type": "markdown",
   "metadata": {},
   "source": [
    "# Task 4"
   ]
  },
  {
   "cell_type": "code",
   "execution_count": null,
   "metadata": {
    "vscode": {
     "languageId": "plaintext"
    }
   },
   "outputs": [],
   "source": [
    "# Task: Use the functions defined in task_3 to analyze the first derivative using the central difference method for a given function on an interval.\n",
    "\n",
    "# 1. Import the task_3 module."
   ]
  },
  {
   "cell_type": "code",
   "execution_count": null,
   "metadata": {
    "vscode": {
     "languageId": "plaintext"
    }
   },
   "outputs": [],
   "source": [
    "# 2. Define a function called example_function that takes a number x as input and outputs the value of the function\n",
    "# f(x) = 5x^5-3x^3+2x+1."
   ]
  },
  {
   "cell_type": "code",
   "execution_count": null,
   "metadata": {
    "vscode": {
     "languageId": "plaintext"
    }
   },
   "outputs": [],
   "source": [
    "# 3. Define a function called true_derivative that takes a number x as input and outputs the value of the true first derivative\n",
    "# of the example_function given above."
   ]
  },
  {
   "cell_type": "code",
   "execution_count": null,
   "metadata": {
    "vscode": {
     "languageId": "plaintext"
    }
   },
   "outputs": [],
   "source": [
    "# 4. Use the plot_derivative_approximations function from the task_3 module to visualize how well the central difference method\n",
    "# approximates the first derivative of the example_function on the interval [-2, 2] with h-values: 2, 1, 0.5, 0.1, 0.01."
   ]
  }
 ],
 "metadata": {
  "language_info": {
   "name": "python"
  }
 },
 "nbformat": 4,
 "nbformat_minor": 2
}
